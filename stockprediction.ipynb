{
 "cells": [
  {
   "cell_type": "markdown",
   "id": "070debdd",
   "metadata": {},
   "source": [
    "## Importing the necessary libraries"
   ]
  },
  {
   "cell_type": "code",
   "execution_count": 4,
   "id": "d8d579b1",
   "metadata": {},
   "outputs": [],
   "source": [
    "import numpy as np\n",
    "import pandas as pd\n",
    "import matplotlib.pyplot as plt\n",
    "from sklearn.preprocessing import MinMaxScaler\n",
    "from tensorflow.keras.models import Sequential\n",
    "from tensorflow.keras.layers import LSTM, Dense"
   ]
  },
  {
   "cell_type": "markdown",
   "id": "49bd0f61",
   "metadata": {},
   "source": [
    "## Loading stock price data"
   ]
  },
  {
   "cell_type": "code",
   "execution_count": 5,
   "id": "611beec9",
   "metadata": {},
   "outputs": [],
   "source": [
    "data = pd.read_csv('TSLA.csv') "
   ]
  },
  {
   "cell_type": "code",
   "execution_count": 6,
   "id": "582e2442",
   "metadata": {},
   "outputs": [
    {
     "data": {
      "text/html": [
       "<div>\n",
       "<style scoped>\n",
       "    .dataframe tbody tr th:only-of-type {\n",
       "        vertical-align: middle;\n",
       "    }\n",
       "\n",
       "    .dataframe tbody tr th {\n",
       "        vertical-align: top;\n",
       "    }\n",
       "\n",
       "    .dataframe thead th {\n",
       "        text-align: right;\n",
       "    }\n",
       "</style>\n",
       "<table border=\"1\" class=\"dataframe\">\n",
       "  <thead>\n",
       "    <tr style=\"text-align: right;\">\n",
       "      <th></th>\n",
       "      <th>Date</th>\n",
       "      <th>Open</th>\n",
       "      <th>High</th>\n",
       "      <th>Low</th>\n",
       "      <th>Close</th>\n",
       "      <th>Adj Close</th>\n",
       "      <th>Volume</th>\n",
       "    </tr>\n",
       "  </thead>\n",
       "  <tbody>\n",
       "    <tr>\n",
       "      <th>0</th>\n",
       "      <td>2010-06-29</td>\n",
       "      <td>19.000000</td>\n",
       "      <td>25.00</td>\n",
       "      <td>17.540001</td>\n",
       "      <td>23.889999</td>\n",
       "      <td>23.889999</td>\n",
       "      <td>18766300</td>\n",
       "    </tr>\n",
       "    <tr>\n",
       "      <th>1</th>\n",
       "      <td>2010-06-30</td>\n",
       "      <td>25.790001</td>\n",
       "      <td>30.42</td>\n",
       "      <td>23.299999</td>\n",
       "      <td>23.830000</td>\n",
       "      <td>23.830000</td>\n",
       "      <td>17187100</td>\n",
       "    </tr>\n",
       "    <tr>\n",
       "      <th>2</th>\n",
       "      <td>2010-07-01</td>\n",
       "      <td>25.000000</td>\n",
       "      <td>25.92</td>\n",
       "      <td>20.270000</td>\n",
       "      <td>21.959999</td>\n",
       "      <td>21.959999</td>\n",
       "      <td>8218800</td>\n",
       "    </tr>\n",
       "    <tr>\n",
       "      <th>3</th>\n",
       "      <td>2010-07-02</td>\n",
       "      <td>23.000000</td>\n",
       "      <td>23.10</td>\n",
       "      <td>18.709999</td>\n",
       "      <td>19.200001</td>\n",
       "      <td>19.200001</td>\n",
       "      <td>5139800</td>\n",
       "    </tr>\n",
       "    <tr>\n",
       "      <th>4</th>\n",
       "      <td>2010-07-06</td>\n",
       "      <td>20.000000</td>\n",
       "      <td>20.00</td>\n",
       "      <td>15.830000</td>\n",
       "      <td>16.110001</td>\n",
       "      <td>16.110001</td>\n",
       "      <td>6866900</td>\n",
       "    </tr>\n",
       "  </tbody>\n",
       "</table>\n",
       "</div>"
      ],
      "text/plain": [
       "         Date       Open   High        Low      Close  Adj Close    Volume\n",
       "0  2010-06-29  19.000000  25.00  17.540001  23.889999  23.889999  18766300\n",
       "1  2010-06-30  25.790001  30.42  23.299999  23.830000  23.830000  17187100\n",
       "2  2010-07-01  25.000000  25.92  20.270000  21.959999  21.959999   8218800\n",
       "3  2010-07-02  23.000000  23.10  18.709999  19.200001  19.200001   5139800\n",
       "4  2010-07-06  20.000000  20.00  15.830000  16.110001  16.110001   6866900"
      ]
     },
     "execution_count": 6,
     "metadata": {},
     "output_type": "execute_result"
    }
   ],
   "source": [
    "data.head()"
   ]
  },
  {
   "cell_type": "markdown",
   "id": "56238334",
   "metadata": {},
   "source": [
    "## Preparing the data"
   ]
  },
  {
   "cell_type": "code",
   "execution_count": 7,
   "id": "133cadd3",
   "metadata": {},
   "outputs": [],
   "source": [
    "close_prices = data['Close'].values.reshape(-1, 1)\n",
    "scaler = MinMaxScaler(feature_range=(0, 1))\n",
    "scaled_prices = scaler.fit_transform(close_prices)"
   ]
  },
  {
   "cell_type": "markdown",
   "id": "38390c6f",
   "metadata": {},
   "source": [
    "## Spliting data into training and testing sets"
   ]
  },
  {
   "cell_type": "code",
   "execution_count": 8,
   "id": "18543b60",
   "metadata": {},
   "outputs": [],
   "source": [
    "train_size = int(len(scaled_prices) * 0.8)\n",
    "train_data = scaled_prices[:train_size]\n",
    "test_data = scaled_prices[train_size:]"
   ]
  },
  {
   "cell_type": "markdown",
   "id": "8689d245",
   "metadata": {},
   "source": [
    "\n",
    "## Function to create LSTM dataset"
   ]
  },
  {
   "cell_type": "code",
   "execution_count": 9,
   "id": "34ecee47",
   "metadata": {},
   "outputs": [],
   "source": [
    "def create_lstm_dataset(dataset, time_steps=1):\n",
    "    X, y = [], []\n",
    "    for i in range(len(dataset) - time_steps):\n",
    "        X.append(dataset[i:i + time_steps, 0])\n",
    "        y.append(dataset[i + time_steps, 0])\n",
    "    return np.array(X), np.array(y)"
   ]
  },
  {
   "cell_type": "markdown",
   "id": "dc642399",
   "metadata": {},
   "source": [
    "## time steps for the LSTM"
   ]
  },
  {
   "cell_type": "code",
   "execution_count": 10,
   "id": "fd8d14ec",
   "metadata": {},
   "outputs": [],
   "source": [
    "time_steps = 60 "
   ]
  },
  {
   "cell_type": "markdown",
   "id": "56825b99",
   "metadata": {},
   "source": [
    "## Creating dataset"
   ]
  },
  {
   "cell_type": "code",
   "execution_count": 11,
   "id": "3c18be3b",
   "metadata": {},
   "outputs": [],
   "source": [
    "X_train, y_train = create_lstm_dataset(train_data, time_steps)\n",
    "X_test, y_test = create_lstm_dataset(test_data, time_steps)"
   ]
  },
  {
   "cell_type": "markdown",
   "id": "2c2aef8a",
   "metadata": {},
   "source": [
    "## Reshaping the data for input"
   ]
  },
  {
   "cell_type": "code",
   "execution_count": 12,
   "id": "2cf9b28e",
   "metadata": {},
   "outputs": [],
   "source": [
    "X_train = np.reshape(X_train, (X_train.shape[0], X_train.shape[1], 1))\n",
    "X_test = np.reshape(X_test, (X_test.shape[0], X_test.shape[1], 1))"
   ]
  },
  {
   "cell_type": "markdown",
   "id": "8e9ebadb",
   "metadata": {},
   "source": [
    "## Build the LSTM model"
   ]
  },
  {
   "cell_type": "code",
   "execution_count": 13,
   "id": "77942500",
   "metadata": {},
   "outputs": [],
   "source": [
    "model = Sequential()\n",
    "model.add(LSTM(units=50, return_sequences=True, input_shape=(X_train.shape[1], 1)))\n",
    "model.add(LSTM(units=50))\n",
    "model.add(Dense(units=1))"
   ]
  },
  {
   "cell_type": "markdown",
   "id": "70bbf403",
   "metadata": {},
   "source": [
    "## Compile"
   ]
  },
  {
   "cell_type": "code",
   "execution_count": 14,
   "id": "7238c3fa",
   "metadata": {},
   "outputs": [],
   "source": [
    "model.compile(optimizer='adam', loss='mean_squared_error')"
   ]
  },
  {
   "cell_type": "markdown",
   "id": "39abc42d",
   "metadata": {},
   "source": [
    "## Train"
   ]
  },
  {
   "cell_type": "code",
   "execution_count": 15,
   "id": "4c5e6a78",
   "metadata": {},
   "outputs": [
    {
     "name": "stdout",
     "output_type": "stream",
     "text": [
      "Epoch 1/10\n",
      "59/59 [==============================] - 10s 37ms/step - loss: 0.0039\n",
      "Epoch 2/10\n",
      "59/59 [==============================] - 2s 40ms/step - loss: 2.5799e-04\n",
      "Epoch 3/10\n",
      "59/59 [==============================] - 2s 38ms/step - loss: 2.4359e-04\n",
      "Epoch 4/10\n",
      "59/59 [==============================] - 2s 37ms/step - loss: 2.3435e-04\n",
      "Epoch 5/10\n",
      "59/59 [==============================] - 2s 40ms/step - loss: 2.4817e-04\n",
      "Epoch 6/10\n",
      "59/59 [==============================] - 2s 37ms/step - loss: 2.2395e-04\n",
      "Epoch 7/10\n",
      "59/59 [==============================] - 2s 37ms/step - loss: 2.0645e-04\n",
      "Epoch 8/10\n",
      "59/59 [==============================] - 2s 37ms/step - loss: 1.9306e-04\n",
      "Epoch 9/10\n",
      "59/59 [==============================] - 2s 38ms/step - loss: 1.9915e-04\n",
      "Epoch 10/10\n",
      "59/59 [==============================] - 2s 39ms/step - loss: 1.7426e-04\n"
     ]
    },
    {
     "data": {
      "text/plain": [
       "<keras.callbacks.History at 0x1f2e8e22550>"
      ]
     },
     "execution_count": 15,
     "metadata": {},
     "output_type": "execute_result"
    }
   ],
   "source": [
    "model.fit(X_train, y_train, epochs=10, batch_size=32)"
   ]
  },
  {
   "cell_type": "markdown",
   "id": "11284925",
   "metadata": {},
   "source": [
    "## Making Predictions"
   ]
  },
  {
   "cell_type": "code",
   "execution_count": 16,
   "id": "d25b9c60",
   "metadata": {},
   "outputs": [
    {
     "name": "stdout",
     "output_type": "stream",
     "text": [
      "59/59 [==============================] - 1s 11ms/step\n",
      "14/14 [==============================] - 0s 11ms/step\n"
     ]
    }
   ],
   "source": [
    "train_predictions = model.predict(X_train)\n",
    "test_predictions = model.predict(X_test)"
   ]
  },
  {
   "cell_type": "code",
   "execution_count": 18,
   "id": "7676440f",
   "metadata": {},
   "outputs": [],
   "source": [
    "train_predictions = scaler.inverse_transform(train_predictions)\n",
    "test_predictions = scaler.inverse_transform(test_predictions)"
   ]
  },
  {
   "cell_type": "markdown",
   "id": "158bb88d",
   "metadata": {},
   "source": [
    "\n",
    "\n",
    "## Ploting actual and predicted price"
   ]
  },
  {
   "cell_type": "code",
   "execution_count": 19,
   "id": "b8d17609",
   "metadata": {},
   "outputs": [
    {
     "data": {
      "image/png": "[encoded data removed]",
      "text/plain": [
       "<Figure size 1200x600 with 1 Axes>"
      ]
     },
     "metadata": {},
     "output_type": "display_data"
    }
   ],
   "source": [
    "plt.figure(figsize=(12, 6))\n",
    "plt.plot(close_prices, color='blue', label='Actual Price')\n",
    "plt.plot([None]*train_size + [x[0] for x in train_predictions], color='green', label='Train Predictions')\n",
    "plt.plot([None]*len(train_predictions) + [x[0] for x in test_predictions], color='red', label='Test Predictions')\n",
    "plt.legend()\n",
    "plt.show()"
   ]
  }
 ],
 "metadata": {
  "kernelspec": {
   "display_name": "Python 3 (ipykernel)",
   "language": "python",
   "name": "python3"
  },
  "language_info": {
   "codemirror_mode": {
    "name": "ipython",
    "version": 3
   },
   "file_extension": ".py",
   "mimetype": "text/x-python",
   "name": "python",
   "nbconvert_exporter": "python",
   "pygments_lexer": "ipython3",
   "version": "3.11.1"
  }
 },
 "nbformat": 4,
 "nbformat_minor": 5
}
